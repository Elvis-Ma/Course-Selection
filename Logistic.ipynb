{
 "cells": [
  {
   "cell_type": "code",
   "execution_count": 11,
   "metadata": {},
   "outputs": [],
   "source": [
    "import pandas as pd\n",
    "from sklearn.model_selection import train_test_split\n",
    "from sklearn.preprocessing import StandardScaler\n",
    "from sklearn.linear_model import LogisticRegression\n",
    "\n",
    "File_Path = 'C:/Users/Rui/Desktop/107/分析資料/'\n",
    "Result_Path = 'C:/Users/Rui/Desktop/107/結果/'\n",
    "\n",
    "資管四上 = pd.read_excel(File_Path + \"資管組大四上.xlsx\", sheet_name=\"課程碼對應課名\")\n",
    "ClassID = 資管四上.課程碼.unique()"
   ]
  },
  {
   "cell_type": "code",
   "execution_count": 12,
   "metadata": {},
   "outputs": [
    {
     "name": "stderr",
     "output_type": "stream",
     "text": [
      "C:\\Users\\Rui\\AppData\\Local\\Temp\\ipykernel_2628\\2024754996.py:46: FutureWarning: The frame.append method is deprecated and will be removed from pandas in a future version. Use pandas.concat instead.\n",
      "  Final_df = df_80.append(df_20)\n",
      "C:\\Users\\Rui\\AppData\\Local\\Temp\\ipykernel_2628\\2024754996.py:46: FutureWarning: The frame.append method is deprecated and will be removed from pandas in a future version. Use pandas.concat instead.\n",
      "  Final_df = df_80.append(df_20)\n"
     ]
    },
    {
     "name": "stdout",
     "output_type": "stream",
     "text": [
      "A22409101  0.867\n",
      "['-0.04', '0.11', '0.00', '0.00', '-0.10', '0.00', '-0.02', '0.01', '0.23', '-0.59', '0.00', '-0.05', '0.00', '0.24', '-0.39', '0.35', '0.00', '0.00', '0.00', '0.00', '0.07', '-0.08', '0.00']\n",
      "A22426101  0.967\n",
      "['0.22', '1.77', '-1.18', '-0.10', '0.00', '0.00', '-0.30', '0.46', '-0.21', '0.00', '-0.37', '0.37', '0.62', '0.22', '0.00', '0.44', '0.00', '0.00', '0.00', '0.52', '-0.67', '0.00', '0.69']\n"
     ]
    },
    {
     "name": "stderr",
     "output_type": "stream",
     "text": [
      "C:\\Users\\Rui\\AppData\\Local\\Temp\\ipykernel_2628\\2024754996.py:46: FutureWarning: The frame.append method is deprecated and will be removed from pandas in a future version. Use pandas.concat instead.\n",
      "  Final_df = df_80.append(df_20)\n"
     ]
    },
    {
     "name": "stdout",
     "output_type": "stream",
     "text": [
      "A22434101  0.633\n",
      "['0.00', '1.11', '0.00', '0.00', '0.00', '0.00', '0.23', '-0.17', '0.61', '-0.06', '-0.67', '-0.11', '0.50', '0.30', '0.02', '0.04', '0.00', '0.00', '0.00', '0.00', '-0.59', '0.43', '-0.26']\n"
     ]
    },
    {
     "name": "stderr",
     "output_type": "stream",
     "text": [
      "C:\\Users\\Rui\\AppData\\Local\\Temp\\ipykernel_2628\\2024754996.py:46: FutureWarning: The frame.append method is deprecated and will be removed from pandas in a future version. Use pandas.concat instead.\n",
      "  Final_df = df_80.append(df_20)\n",
      "C:\\Users\\Rui\\AppData\\Local\\Temp\\ipykernel_2628\\2024754996.py:46: FutureWarning: The frame.append method is deprecated and will be removed from pandas in a future version. Use pandas.concat instead.\n",
      "  Final_df = df_80.append(df_20)\n"
     ]
    },
    {
     "name": "stdout",
     "output_type": "stream",
     "text": [
      "A22422101  0.633\n",
      "['0.00', '-0.12', '0.00', '-0.05', '0.08', '0.00', '-0.18', '0.58', '0.00', '0.26', '-0.50', '0.00', '-0.33', '-0.48', '0.32', '0.57', '0.00', '0.00', '0.00', '-0.32', '0.00', '0.29', '0.00']\n",
      "A22450101  0.833\n",
      "['-0.60', '0.00', '0.67', '0.38', '-0.35', '0.00', '0.16', '-0.19', '0.00', '-0.26', '0.14', '-0.25', '0.29', '0.00', '-0.10', '-0.21', '0.00', '0.00', '0.00', '0.07', '0.25', '0.43', '0.00']\n"
     ]
    },
    {
     "name": "stderr",
     "output_type": "stream",
     "text": [
      "C:\\Users\\Rui\\AppData\\Local\\Temp\\ipykernel_2628\\2024754996.py:46: FutureWarning: The frame.append method is deprecated and will be removed from pandas in a future version. Use pandas.concat instead.\n",
      "  Final_df = df_80.append(df_20)\n",
      "C:\\Users\\Rui\\AppData\\Local\\Temp\\ipykernel_2628\\2024754996.py:46: FutureWarning: The frame.append method is deprecated and will be removed from pandas in a future version. Use pandas.concat instead.\n",
      "  Final_df = df_80.append(df_20)\n"
     ]
    },
    {
     "name": "stdout",
     "output_type": "stream",
     "text": [
      "A22456101  0.500\n",
      "['0.40', '-0.70', '0.00', '0.22', '0.00', '0.00', '0.27', '-0.15', '0.85', '0.00', '-0.17', '0.11', '0.06', '-0.27', '0.43', '-0.12', '0.00', '0.00', '0.00', '-0.24', '-0.06', '-0.86', '-0.52']\n",
      "A22440101  0.600\n",
      "['0.00', '-0.17', '-0.50', '0.16', '-0.09', '0.00', '-0.37', '0.00', '-0.23', '0.00', '0.08', '-0.34', '-0.12', '-0.03', '-0.78', '0.27', '0.00', '0.00', '0.00', '-0.20', '-0.17', '0.23', '0.00']\n",
      "A22407101  0.900\n",
      "['-0.51', '-2.53', '1.12', '0.00', '0.00', '0.00', '0.00', '-0.38', '0.41', '-0.26', '0.63', '-0.43', '-0.47', '-0.51', '0.02', '-0.76', '0.00', '0.00', '0.00', '0.00', '1.09', '0.58', '-1.11']\n"
     ]
    },
    {
     "name": "stderr",
     "output_type": "stream",
     "text": [
      "C:\\Users\\Rui\\AppData\\Local\\Temp\\ipykernel_2628\\2024754996.py:46: FutureWarning: The frame.append method is deprecated and will be removed from pandas in a future version. Use pandas.concat instead.\n",
      "  Final_df = df_80.append(df_20)\n"
     ]
    }
   ],
   "source": [
    "for j in ClassID:\n",
    "\n",
    "    資管三上 = pd.read_excel(File_Path + \"資管組大四上.xlsx\", sheet_name= j)\n",
    "    資管三上.drop(columns = {'Unnamed: 0'}) #指定參數 axis = 0 表示要刪除觀測值（row），指定參數 axis = 1 表示要刪除欄位（column）。\n",
    "\n",
    "    資管三上['是否修課'] = 資管三上[j]\n",
    "    X_train, X_test, y_train, y_test = train_test_split(\n",
    "    資管三上[['星期一','星期二','星期三','星期四','星期五',\n",
    "               '節次一','節次二','節次三','節次五','節次六','節次八','節次九','節次十一','節次十二','個人平均','班平均再平均','星期','節次1','班平均',\n",
    "               '群組_0','群組_1','群組_2','群組_3']],\n",
    "    資管三上[['是否修課']], test_size = 0.2, shuffle=False)\n",
    "\n",
    "    #使用Logistic Regression之前需要先對資料做特徵縮放\n",
    "    sc = StandardScaler()\n",
    "    sc.fit(X_train) #sc.fit就像一個小機器人，80%的原始資料X_train餵進去後會得出一個 α、β值\n",
    "\n",
    "    X_train_std = sc.transform(X_train) #我們再拿剛剛得出的α、β值去改變資料\n",
    "    X_test_std = sc.transform(X_test) #X_train、X_test都要改\n",
    "\n",
    "    #初始化Logistic Regression函式，以及將資料放進Logistic Regression開始訓練\n",
    "    lr = LogisticRegression(penalty='l1', solver='liblinear')\n",
    "    lr.fit(X_train_std, y_train['是否修課'].values) #訓練模型，所以放入訓練集，(隨機切出80%的資料)\n",
    "    #這邊lr.fit也會得出一個 α、β值\n",
    "\n",
    "    lst_80 = []\n",
    "    lst_20 = []\n",
    "\n",
    "    y_80 = lr.predict(X_train_std)\n",
    "    y_20 = lr.predict(X_test_std)\n",
    "\n",
    "    for i in range(len(X_train_std)): #80%\n",
    "        y_proba = lr.predict_proba(X_train_std[i].reshape(1,-1)).tolist()\n",
    "        y_proba[0].append(j)\n",
    "        y_proba[0].append(y_80[i])\n",
    "        lst_80.append(y_proba[0])\n",
    "\n",
    "    for i in range(len(X_test_std)): #20%\n",
    "        y_proba = lr.predict_proba(X_test_std[i].reshape(1,-1)).tolist()\n",
    "        y_proba[0].append(j)\n",
    "        y_proba[0].append(y_20[i])\n",
    "        lst_20.append(y_proba[0])\n",
    "\n",
    "    df_80 = pd.DataFrame(lst_80, columns =['不修課', '修課', '課碼', 'y'])\n",
    "    df_20 = pd.DataFrame(lst_20, columns =['不修課', '修課', '課碼', 'y'])\n",
    "\n",
    "    Final_df = df_80.append(df_20)\n",
    "    Final_df.to_excel(Result_Path + j + '.xlsx')\n",
    "    \n",
    "    score = lr.score(X_test_std, y_test)\n",
    "    coef = [f\"{x:.2f}\" for x in lr.coef_[0]] #格式化字符串方法來控制輸出的小數位數\n",
    "\n",
    "    print(j + f\"  {score:.3f}\") #限制為小數點後3位\n",
    "    print(coef)"
   ]
  },
  {
   "cell_type": "code",
   "execution_count": 13,
   "metadata": {},
   "outputs": [],
   "source": [
    "#2023/03/09筆記 這一格做的事情就是把學生的虛學號加到每堂課的檔案當中\n",
    "#因為上面的shuffle參數我用false所以資料順序不會改變 可以直接把原始資料當中的虛學號copy過來用\n",
    "for i in ClassID:\n",
    "\n",
    "    資管三上 = pd.read_excel(File_Path + \"資管組大四上.xlsx\", sheet_name= i)\n",
    "    Final_df = pd.read_excel(Result_Path + i + '.xlsx')\n",
    "    \n",
    "    Final_df['虛學號'] = 資管三上['虛學號']\n",
    "    Final_df['最終是否修課'] = 資管三上[i]\n",
    "    Final_df = Final_df.drop(columns = {'Unnamed: 0'})\n",
    "    Final_df.to_excel(Result_Path + i + '.xlsx')"
   ]
  },
  {
   "cell_type": "code",
   "execution_count": 14,
   "metadata": {},
   "outputs": [],
   "source": [
    "#Student_list的用意就是幫我把這些課堂中一共有多少位學生計算出來，結果是836位(105-110學年)\n",
    "Student_list = []\n",
    "\n",
    "for i in ClassID:\n",
    "\n",
    "    資管三上學生 = pd.read_excel(Result_Path + i +\".xlsx\")\n",
    "    Student = list(資管三上學生['虛學號'])\n",
    "    Student_list += Student\n",
    "\n",
    "Student_list = list(dict.fromkeys(Student_list))"
   ]
  },
  {
   "cell_type": "code",
   "execution_count": 15,
   "metadata": {},
   "outputs": [
    {
     "name": "stderr",
     "output_type": "stream",
     "text": [
      "C:\\Users\\Rui\\AppData\\Local\\Temp\\ipykernel_2628\\2144073364.py:8: FutureWarning: The frame.append method is deprecated and will be removed from pandas in a future version. Use pandas.concat instead.\n",
      "  df = df.append(資管三上學生)\n",
      "C:\\Users\\Rui\\AppData\\Local\\Temp\\ipykernel_2628\\2144073364.py:8: FutureWarning: The frame.append method is deprecated and will be removed from pandas in a future version. Use pandas.concat instead.\n",
      "  df = df.append(資管三上學生)\n",
      "C:\\Users\\Rui\\AppData\\Local\\Temp\\ipykernel_2628\\2144073364.py:8: FutureWarning: The frame.append method is deprecated and will be removed from pandas in a future version. Use pandas.concat instead.\n",
      "  df = df.append(資管三上學生)\n",
      "C:\\Users\\Rui\\AppData\\Local\\Temp\\ipykernel_2628\\2144073364.py:8: FutureWarning: The frame.append method is deprecated and will be removed from pandas in a future version. Use pandas.concat instead.\n",
      "  df = df.append(資管三上學生)\n",
      "C:\\Users\\Rui\\AppData\\Local\\Temp\\ipykernel_2628\\2144073364.py:8: FutureWarning: The frame.append method is deprecated and will be removed from pandas in a future version. Use pandas.concat instead.\n",
      "  df = df.append(資管三上學生)\n",
      "C:\\Users\\Rui\\AppData\\Local\\Temp\\ipykernel_2628\\2144073364.py:8: FutureWarning: The frame.append method is deprecated and will be removed from pandas in a future version. Use pandas.concat instead.\n",
      "  df = df.append(資管三上學生)\n",
      "C:\\Users\\Rui\\AppData\\Local\\Temp\\ipykernel_2628\\2144073364.py:8: FutureWarning: The frame.append method is deprecated and will be removed from pandas in a future version. Use pandas.concat instead.\n",
      "  df = df.append(資管三上學生)\n",
      "C:\\Users\\Rui\\AppData\\Local\\Temp\\ipykernel_2628\\2144073364.py:8: FutureWarning: The frame.append method is deprecated and will be removed from pandas in a future version. Use pandas.concat instead.\n",
      "  df = df.append(資管三上學生)\n"
     ]
    }
   ],
   "source": [
    "#這一個在做的事情是把資管三上的所有邏輯回歸跑出來的結果課程append再一起變成一個7000多筆的dataframe\n",
    "df = pd.DataFrame()\n",
    "\n",
    "for j in ClassID:\n",
    "  \n",
    "  資管三上學生 = pd.read_excel(Result_Path + j +\".xlsx\")\n",
    "  資管三上學生.drop(columns='Unnamed: 0')\n",
    "  df = df.append(資管三上學生)\n",
    "  df = df.drop(columns='Unnamed: 0')"
   ]
  },
  {
   "cell_type": "code",
   "execution_count": 16,
   "metadata": {},
   "outputs": [],
   "source": [
    "import pandas as pd\n",
    "\n",
    "修課資料 = pd.read_pickle(File_Path + '學生修課與成績資料_103到110.pkl')\n",
    "開課資料 = pd.read_pickle(File_Path + '開課時段及授課老師_103到110.pkl')\n",
    "\n",
    "#先刪除重複的開課資料(因為有些課會有多個老師合開課)\n",
    "刪除重複開課 = 開課資料.drop_duplicates(subset = ['成績學年','成績學期','課程碼'], keep='first')\n",
    "刪除重複開課 = 刪除重複開課.loc[(刪除重複開課.開課單位 == '22資訊管理學系') & (刪除重複開課.選別 == '7選修')]\n",
    "\n",
    "#2023/03/09 : 資管課碼和課名這個dataframe用來幫助我底下程式碼運行時，透過課碼將課名帶到每一個學生的工作表當中\n",
    "資管課碼和課名 = 刪除重複開課[['課程碼','課名']]\n",
    "資管課碼和課名 = 資管課碼和課名.rename(columns = {'課程碼':'課碼'})"
   ]
  },
  {
   "cell_type": "code",
   "execution_count": 17,
   "metadata": {},}
   ],
   "source": [
    "#接著就是利用上面用到的df來去做虛學號的篩選，並且將篩選出來後的dataframe一個一個加到工作表裡，工作表則以該學生的虛學號命名\n",
    "with pd.ExcelWriter(File_Path + '資管組大四上(學生).xlsx') as writer:\n",
    "\n",
    "  for i in Student_list:\n",
    "\n",
    "    df_student = pd.DataFrame()\n",
    "    \n",
    "    抓學生資料 = df.loc[(df.虛學號 == i)]\n",
    "    抓學生資料 = 抓學生資料[['虛學號','不修課','修課','課碼','y','最終是否修課']]\n",
    "    df_student = df_student.append(抓學生資料)\n",
    "\n",
    "    df_student = df_student.sort_values(by = '修課', ascending = False)\n",
    "    df_student = df_student.merge(資管課碼和課名, on = ['課碼'])\n",
    "    df_student = df_student.drop_duplicates(subset = ['虛學號','不修課','修課','課碼','y'], keep='first')\n",
    "\n",
    "    df_student.to_excel(writer, sheet_name = str(i), index=False)"
   ]
  },
  {
   "cell_type": "code",
   "execution_count": 18,
   "metadata": {},
   "outputs": [
    {
     "name": "stdout",
     "output_type": "stream",
     "text": [
      "前3筆課程最終有修課的比率為: 69.59554054054055\n",
      "後3筆課程最終沒有修課的比率為: 90.54121621621623\n"
     ]
    }
   ],
   "source": [
    "percent_top = 0 #計算前x筆用的\n",
    "percent_bottom = 0 #計算後x筆用的\n",
    "count = 0\n",
    "\n",
    "for i in Student_list:\n",
    "\n",
    "    df = pd.read_excel(File_Path + '資管組大四上(學生).xlsx', sheet_name=i)\n",
    "\n",
    "    x = 3\n",
    "    first = df.head(x)\n",
    "    last = df.tail(x)\n",
    "\n",
    "    # 計算前 x 筆資料中最終是否修課欄位為 1 的百分比\n",
    "    if 1 in first['最終是否修課'].unique():\n",
    "        first_perc = round(len(first[first['最終是否修課'] == 1]) / len(first) * 100, 2)\n",
    "    else:\n",
    "        first_perc = 0\n",
    "        \n",
    "    # 計算後 x 筆資料中最終是否修課欄位為 0 的百分比\n",
    "    if 0 in last['最終是否修課'].unique():\n",
    "        last_perc = round(len(last[last['最終是否修課'] == 0]) / len(last) * 100, 2)\n",
    "    else:\n",
    "        last_perc = 0\n",
    "    \n",
    "    percent_top += first_perc\n",
    "    percent_bottom += last_perc\n",
    "    count += 1\n",
    "\n",
    "mean_top = (percent_top / count)\n",
    "mean_bottom = (percent_bottom / count)\n",
    "\n",
    "print(f\"前3筆課程最終有修課的比率為: {mean_top}\")\n",
    "print(f\"後3筆課程最終沒有修課的比率為: {mean_bottom}\")"
   ]
  },
  {
   "cell_type": "code",
   "execution_count": 19,
   "metadata": {},
   "outputs": [
    {
     "name": "stdout",
     "output_type": "stream",
     "text": [
      "precision: 0.7990867579908674\n",
      "有2個學生的y欄位是根本沒有1的\n"
     ]
    }
   ],
   "source": [
    "total = 0\n",
    "count = 0\n",
    "no1_count = 0\n",
    "\n",
    "for i in Student_list:\n",
    "\n",
    "    df = pd.read_excel(File_Path + '資管組大四上(學生).xlsx', sheet_name=i)\n",
    "    \n",
    "    # 篩選出y欄位為1的資料\n",
    "    y1_data = df[df['y'] == 1]\n",
    "\n",
    "    if len(y1_data) == 0:\n",
    "        no1_count += 1 #這個變數會讓我知道有多少個學生的y欄位是根本沒有1的\n",
    "        continue #continue表示結束本次的迴圈 直接進入到下一個\n",
    "\n",
    "    # 計算最終是否修課欄位為1的比例\n",
    "    if 1 in y1_data['最終是否修課'].unique():\n",
    "        final_y1_ratio = y1_data['最終是否修課'].mean()\n",
    "        count += 1\n",
    "    else:\n",
    "        final_y1_ratio = 0\n",
    "        count += 1\n",
    "\n",
    "    total += final_y1_ratio\n",
    "\n",
    "mean = total/count\n",
    "# 輸出結果\n",
    "print(f\"precision: {mean}\")\n",
    "print(f\"有{no1_count}個學生的y欄位是根本沒有1的\")"
   ]
  },
  {
   "cell_type": "code",
   "execution_count": 20,
   "metadata": {},
   "outputs": [
    {
     "name": "stdout",
     "output_type": "stream",
     "text": [
      "recall: 0.6667792792792792\n"
     ]
    }
   ],
   "source": [
    "total = 0\n",
    "count = 0\n",
    "\n",
    "for i in Student_list:\n",
    "\n",
    "    df = pd.read_excel(File_Path + '資管組大四上(學生).xlsx', sheet_name=i)\n",
    "    \n",
    "    # 篩選出 最終是否修課 欄位為1的資料\n",
    "    y1_data = df[df['最終是否修課'] == 1]\n",
    "\n",
    "    if len(y1_data) == 0:\n",
    "        continue #continue表示結束本次的迴圈 直接進入到下一個\n",
    "    else:\n",
    "        final_y1_ratio = y1_data['y'].mean()\n",
    "        total += final_y1_ratio\n",
    "        count += 1\n",
    "\n",
    "mean = total/count\n",
    "# 輸出結果\n",
    "print(f\"recall: {mean}\")"
   ]
  }
 ],
 "metadata": {
  "kernelspec": {
   "display_name": "Python 3",
   "language": "python",
   "name": "python3"
  },
  "language_info": {
   "codemirror_mode": {
    "name": "ipython",
    "version": 3
   },
   "file_extension": ".py",
   "mimetype": "text/x-python",
   "name": "python",
   "nbconvert_exporter": "python",
   "pygments_lexer": "ipython3",
   "version": "3.11.2"
  },
  "orig_nbformat": 4
 },
 "nbformat": 4,
 "nbformat_minor": 2
}
